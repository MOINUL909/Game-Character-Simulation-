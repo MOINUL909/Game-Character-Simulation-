{
 "cells": [
  {
   "cell_type": "code",
   "execution_count": 1,
   "id": "5a3dd18f-4846-4b10-982c-f8a8acd6c362",
   "metadata": {},
   "outputs": [
    {
     "name": "stdout",
     "output_type": "stream",
     "text": [
      "Collecting termcolor\n",
      "  Downloading termcolor-2.5.0-py3-none-any.whl.metadata (6.1 kB)\n",
      "Requirement already satisfied: emoji in f:\\anaconda\\file\\install_file\\lib\\site-packages (2.14.0)\n",
      "Downloading termcolor-2.5.0-py3-none-any.whl (7.8 kB)\n",
      "Installing collected packages: termcolor\n",
      "Successfully installed termcolor-2.5.0\n"
     ]
    }
   ],
   "source": [
    "!pip install termcolor emoji\n"
   ]
  },
  {
   "cell_type": "code",
   "execution_count": 11,
   "id": "05322e7a-d4ac-4546-a782-93414977991f",
   "metadata": {},
   "outputs": [
    {
     "name": "stdout",
     "output_type": "stream",
     "text": [
      "\u001b[36mPlease log in to access the game\u001b[0m\n"
     ]
    },
    {
     "name": "stdin",
     "output_type": "stream",
     "text": [
      "Enter UserId:  Moinul\n",
      "Enter Password:  Moinul909\n"
     ]
    },
    {
     "name": "stdout",
     "output_type": "stream",
     "text": [
      "\u001b[32mLogin successful! Welcome to the game!\u001b[0m\n",
      "\u001b[36mWelcome to the Game Character Simulation! Choose your character:\u001b[0m\n",
      "1. Warrior (Strong and Brave)\n",
      "2. Mage (Master of Magic)\n",
      "3. Archer (Swift and Sharp)\n"
     ]
    },
    {
     "name": "stdin",
     "output_type": "stream",
     "text": [
      "\n",
      "Enter the number of your choice:  3\n"
     ]
    },
    {
     "name": "stdout",
     "output_type": "stream",
     "text": [
      "\u001b[34m\n",
      "Moinul (You) will fight against Robin!\u001b[0m\n",
      "\n",
      "==================================================\n",
      "\u001b[36mMoinul | Health: [█████████-] 90\u001b[0m\n",
      "\u001b[33mRobin | Health: [█████████-] 95\u001b[0m\n",
      "==================================================\n"
     ]
    },
    {
     "name": "stdin",
     "output_type": "stream",
     "text": [
      "\n",
      "It's your turn, Moinul! Choose an action:\n",
      "1. Attack\n",
      "2. Heal\n",
      "Enter choice:  2\n"
     ]
    },
    {
     "name": "stdout",
     "output_type": "stream",
     "text": [
      "\u001b[32m\n",
      "Moinul heals!\u001b[0m\n",
      "\u001b[32mMoinul heals for 13 points. Current health: 103\u001b[0m\n",
      "\u001b[31m\n",
      "Robin retaliates!\u001b[0m\n",
      "\u001b[31mRobin shoots an arrow at Moinul for 12 damage! 🏹\u001b[0m\n",
      "\n",
      "==================================================\n",
      "\u001b[36mMoinul | Health: [█████████-] 91\u001b[0m\n",
      "\u001b[33mRobin | Health: [█████████-] 95\u001b[0m\n",
      "==================================================\n"
     ]
    },
    {
     "name": "stdin",
     "output_type": "stream",
     "text": [
      "\n",
      "It's your turn, Moinul! Choose an action:\n",
      "1. Attack\n",
      "2. Heal\n",
      "Enter choice:  2\n"
     ]
    },
    {
     "name": "stdout",
     "output_type": "stream",
     "text": [
      "\u001b[32m\n",
      "Moinul heals!\u001b[0m\n",
      "\u001b[32mMoinul heals for 17 points. Current health: 108\u001b[0m\n",
      "\u001b[31m\n",
      "Robin retaliates!\u001b[0m\n",
      "\u001b[31mRobin shoots an arrow at Moinul for 18 damage! 🏹\u001b[0m\n",
      "\n",
      "==================================================\n",
      "\u001b[36mMoinul | Health: [█████████-] 90\u001b[0m\n",
      "\u001b[33mRobin | Health: [█████████-] 95\u001b[0m\n",
      "==================================================\n"
     ]
    },
    {
     "name": "stdin",
     "output_type": "stream",
     "text": [
      "\n",
      "It's your turn, Moinul! Choose an action:\n",
      "1. Attack\n",
      "2. Heal\n",
      "Enter choice:  1\n"
     ]
    },
    {
     "name": "stdout",
     "output_type": "stream",
     "text": [
      "\u001b[33m\n",
      "Moinul attacks!\u001b[0m\n",
      "\u001b[31mMoinul shoots an arrow at Robin for 18 damage! 🏹\u001b[0m\n",
      "\u001b[31m\n",
      "Robin retaliates!\u001b[0m\n",
      "\u001b[31mRobin shoots an arrow at Moinul for 15 damage! 🏹\u001b[0m\n",
      "\n",
      "==================================================\n",
      "\u001b[36mMoinul | Health: [███████---] 75\u001b[0m\n",
      "\u001b[33mRobin | Health: [███████---] 77\u001b[0m\n",
      "==================================================\n"
     ]
    },
    {
     "name": "stdin",
     "output_type": "stream",
     "text": [
      "\n",
      "It's your turn, Moinul! Choose an action:\n",
      "1. Attack\n",
      "2. Heal\n",
      "Enter choice:  1\n"
     ]
    },
    {
     "name": "stdout",
     "output_type": "stream",
     "text": [
      "\u001b[33m\n",
      "Moinul attacks!\u001b[0m\n",
      "\u001b[31mMoinul shoots an arrow at Robin for 22 damage! 🏹\u001b[0m\n",
      "\u001b[31m\n",
      "Robin retaliates!\u001b[0m\n",
      "\u001b[31mRobin shoots an arrow at Moinul for 15 damage! 🏹\u001b[0m\n",
      "\n",
      "==================================================\n",
      "\u001b[36mMoinul | Health: [██████----] 60\u001b[0m\n",
      "\u001b[33mRobin | Health: [█████-----] 55\u001b[0m\n",
      "==================================================\n"
     ]
    },
    {
     "name": "stdin",
     "output_type": "stream",
     "text": [
      "\n",
      "It's your turn, Moinul! Choose an action:\n",
      "1. Attack\n",
      "2. Heal\n",
      "Enter choice:  1\n"
     ]
    },
    {
     "name": "stdout",
     "output_type": "stream",
     "text": [
      "\u001b[33m\n",
      "Moinul attacks!\u001b[0m\n",
      "\u001b[31mMoinul shoots an arrow at Robin for 18 damage! 🏹\u001b[0m\n",
      "\u001b[31m\n",
      "Robin retaliates!\u001b[0m\n",
      "\u001b[31mRobin shoots an arrow at Moinul for 16 damage! 🏹\u001b[0m\n",
      "\n",
      "==================================================\n",
      "\u001b[36mMoinul | Health: [████------] 44\u001b[0m\n",
      "\u001b[33mRobin | Health: [███-------] 37\u001b[0m\n",
      "==================================================\n"
     ]
    },
    {
     "name": "stdin",
     "output_type": "stream",
     "text": [
      "\n",
      "It's your turn, Moinul! Choose an action:\n",
      "1. Attack\n",
      "2. Heal\n",
      "Enter choice:  1\n"
     ]
    },
    {
     "name": "stdout",
     "output_type": "stream",
     "text": [
      "\u001b[33m\n",
      "Moinul attacks!\u001b[0m\n",
      "\u001b[31mMoinul shoots an arrow at Robin for 19 damage! 🏹\u001b[0m\n",
      "\u001b[31m\n",
      "Robin retaliates!\u001b[0m\n",
      "\u001b[31mRobin shoots an arrow at Moinul for 21 damage! 🏹\u001b[0m\n",
      "\n",
      "==================================================\n",
      "\u001b[36mMoinul | Health: [██--------] 23\u001b[0m\n",
      "\u001b[33mRobin | Health: [█---------] 18\u001b[0m\n",
      "==================================================\n"
     ]
    },
    {
     "name": "stdin",
     "output_type": "stream",
     "text": [
      "\n",
      "It's your turn, Moinul! Choose an action:\n",
      "1. Attack\n",
      "2. Heal\n",
      "Enter choice:  1\n"
     ]
    },
    {
     "name": "stdout",
     "output_type": "stream",
     "text": [
      "\u001b[33m\n",
      "Moinul attacks!\u001b[0m\n",
      "\u001b[31mMoinul shoots an arrow at Robin for 12 damage! 🏹\u001b[0m\n",
      "\u001b[31m\n",
      "Robin retaliates!\u001b[0m\n",
      "\u001b[31mRobin shoots an arrow at Moinul for 17 damage! 🏹\u001b[0m\n",
      "\n",
      "==================================================\n",
      "\u001b[36mMoinul | Health: [----------] 6\u001b[0m\n",
      "\u001b[33mRobin | Health: [----------] 6\u001b[0m\n",
      "==================================================\n"
     ]
    },
    {
     "name": "stdin",
     "output_type": "stream",
     "text": [
      "\n",
      "It's your turn, Moinul! Choose an action:\n",
      "1. Attack\n",
      "2. Heal\n",
      "Enter choice:  1\n"
     ]
    },
    {
     "name": "stdout",
     "output_type": "stream",
     "text": [
      "\u001b[33m\n",
      "Moinul attacks!\u001b[0m\n",
      "\u001b[31mMoinul shoots an arrow at Robin for 17 damage! 🏹\u001b[0m\n",
      "\u001b[35mRobin has been shot down!\u001b[0m\n",
      "\u001b[35m\n",
      "Robin has been defeated!\u001b[0m\n",
      "\u001b[34mMoinul leveled up to level 8 and gained 20 health points. Health: 26\u001b[0m\n"
     ]
    }
   ],
   "source": [
    "import random\n",
    "from termcolor import colored\n",
    "import emoji\n",
    "import time\n",
    "# UserId=Moinul\n",
    "# Password=Moinul909\n",
    "# Login Credentials\n",
    "USER_ID = \"Moinul\"\n",
    "PASSWORD = \"Moinul909\"\n",
    "\n",
    "# Function for user authentication\n",
    "def authenticate():\n",
    "    print(colored(\"Please log in to access the game\", 'cyan'))\n",
    "    entered_user = input(\"Enter UserId: \")\n",
    "    entered_password = input(\"Enter Password: \")\n",
    "\n",
    "    if entered_user == USER_ID and entered_password == PASSWORD:\n",
    "        print(colored(\"Login successful! Welcome to the game!\", 'green'))\n",
    "        return entered_user  # Return the UserId for use as player name\n",
    "    else:\n",
    "        print(colored(\"Invalid UserId or Password. Access denied.\", 'red'))\n",
    "        return None\n",
    "\n",
    "# Base Character Class\n",
    "class Character:\n",
    "    def __init__(self, name, health, level):\n",
    "        self.name = name\n",
    "        self.health = health\n",
    "        self.level = level\n",
    "\n",
    "    def attack(self, other):\n",
    "        \"\"\"Basic attack method to be overridden by subclasses\"\"\"\n",
    "        pass\n",
    "\n",
    "    def heal(self):\n",
    "        \"\"\"Regenerate health\"\"\"\n",
    "        healed_amount = random.randint(10, 20)\n",
    "        self.health += healed_amount\n",
    "        print(colored(f\"{self.name} heals for {healed_amount} points. Current health: {self.health}\", 'green'))\n",
    "        \n",
    "    def level_up(self):\n",
    "        \"\"\"Increase the level and boost health\"\"\"\n",
    "        self.level += 1\n",
    "        self.health += 20\n",
    "        print(colored(f\"{self.name} leveled up to level {self.level} and gained 20 health points. Health: {self.health}\", 'blue'))\n",
    "        \n",
    "    def display_health_bar(self):\n",
    "        \"\"\"Display a health bar for the character\"\"\"\n",
    "        bar = '█' * (self.health // 10) + '-' * (10 - self.health // 10)\n",
    "        return f\"{self.name} | Health: [{bar}] {self.health}\"\n",
    "\n",
    "    def __str__(self):\n",
    "        return f\"{self.name} (Level {self.level}) - Health: {self.health}\"\n",
    "\n",
    "# Warrior Subclass\n",
    "class Warrior(Character):\n",
    "    def __init__(self, name, health, level):\n",
    "        super().__init__(name, health, level)\n",
    "\n",
    "    def attack(self, other):\n",
    "        damage = random.randint(15, 25)\n",
    "        other.health -= damage\n",
    "        print(colored(f\"{self.name} strikes {other.name} with a sword for {damage} damage! {emoji.emojize(':crossed_swords:')}\", 'red'))\n",
    "        if other.health <= 0:\n",
    "            print(colored(f\"{other.name} has fallen!\", 'magenta'))\n",
    "\n",
    "# Mage Subclass\n",
    "class Mage(Character):\n",
    "    def __init__(self, name, health, level):\n",
    "        super().__init__(name, health, level)\n",
    "\n",
    "    def attack(self, other):\n",
    "        damage = random.randint(10, 30)\n",
    "        other.health -= damage\n",
    "        print(colored(f\"{self.name} casts a fireball at {other.name} for {damage} damage! {emoji.emojize(':fire:')}\", 'red'))\n",
    "        if other.health <= 0:\n",
    "            print(colored(f\"{other.name} has been incinerated!\", 'magenta'))\n",
    "\n",
    "# Archer Subclass\n",
    "class Archer(Character):\n",
    "    def __init__(self, name, health, level):\n",
    "        super().__init__(name, health, level)\n",
    "\n",
    "    def attack(self, other):\n",
    "        damage = random.randint(12, 22)\n",
    "        other.health -= damage\n",
    "        print(colored(f\"{self.name} shoots an arrow at {other.name} for {damage} damage! {emoji.emojize(':bow_and_arrow:')}\", 'red'))\n",
    "        if other.health <= 0:\n",
    "            print(colored(f\"{other.name} has been shot down!\", 'magenta'))\n",
    "\n",
    "# Function to simulate a round of combat with user input\n",
    "def combat_round(player, opponent):\n",
    "    while player.health > 0 and opponent.health > 0:\n",
    "        print(\"\\n\" + \"=\"*50)\n",
    "        print(colored(f\"{player.display_health_bar()}\", 'cyan'))\n",
    "        print(colored(f\"{opponent.display_health_bar()}\", 'yellow'))\n",
    "        print(\"=\"*50)\n",
    "\n",
    "        # Player's turn\n",
    "        action = input(f\"\\nIt's your turn, {player.name}! Choose an action:\\n1. Attack\\n2. Heal\\nEnter choice: \")\n",
    "        if action == \"1\":\n",
    "            print(colored(f\"\\n{player.name} attacks!\", 'yellow'))\n",
    "            player.attack(opponent)\n",
    "        elif action == \"2\":\n",
    "            print(colored(f\"\\n{player.name} heals!\", 'green'))\n",
    "            player.heal()\n",
    "\n",
    "        time.sleep(1)  # Add delay to make the game flow better\n",
    "        \n",
    "        if opponent.health <= 0:\n",
    "            print(colored(f\"\\n{opponent.name} has been defeated!\", 'magenta'))\n",
    "            player.level_up()\n",
    "            break\n",
    "        \n",
    "        # Opponent's turn\n",
    "        print(colored(f\"\\n{opponent.name} retaliates!\", 'red'))\n",
    "        opponent.attack(player)\n",
    "        \n",
    "        if player.health <= 0:\n",
    "            print(colored(f\"\\n{player.name} has been defeated!\", 'magenta'))\n",
    "            opponent.level_up()\n",
    "            break\n",
    "        \n",
    "        time.sleep(1)  # Add delay to make the game flow better\n",
    "\n",
    "# Character selection\n",
    "def choose_character(player_name):\n",
    "    print(colored(\"Welcome to the Game Character Simulation! Choose your character:\", 'cyan'))\n",
    "    print(\"1. Warrior (Strong and Brave)\")\n",
    "    print(\"2. Mage (Master of Magic)\")\n",
    "    print(\"3. Archer (Swift and Sharp)\")\n",
    "    \n",
    "    choice = input(\"\\nEnter the number of your choice: \")\n",
    "    \n",
    "    if choice == \"1\":\n",
    "        return Warrior(player_name, 100, 5)  # Player name from login\n",
    "    elif choice == \"2\":\n",
    "        return Mage(player_name, 80, 6)\n",
    "    elif choice == \"3\":\n",
    "        return Archer(player_name, 90, 7)\n",
    "    else:\n",
    "        print(colored(\"Invalid choice! Defaulting to Warrior.\", 'yellow'))\n",
    "        return Warrior(player_name, 100, 5)\n",
    "\n",
    "# Main simulation\n",
    "if __name__ == \"__main__\":\n",
    "    user_id = authenticate()  # User authentication and name capture\n",
    "    \n",
    "    if user_id:\n",
    "        # Player selects a character\n",
    "        player = choose_character(user_id)  # Use user_id as player name\n",
    "        \n",
    "        # Create an opponent (random)\n",
    "        opponents = [Warrior(\"Grog\", 110, 6), Mage(\"Saruman\", 90, 6), Archer(\"Robin\", 95, 7)]\n",
    "        opponent = random.choice(opponents)\n",
    "        \n",
    "        print(colored(f\"\\n{player.name} (You) will fight against {opponent.name}!\", 'blue'))\n",
    "        \n",
    "        # Simulate combat\n",
    "        combat_round(player, opponent)\n"
   ]
  },
  {
   "cell_type": "code",
   "execution_count": null,
   "id": "fc07881e-8621-4345-8a7a-ad7795d01c0e",
   "metadata": {},
   "outputs": [],
   "source": []
  }
 ],
 "metadata": {
  "kernelspec": {
   "display_name": "Python 3 (ipykernel)",
   "language": "python",
   "name": "python3"
  },
  "language_info": {
   "codemirror_mode": {
    "name": "ipython",
    "version": 3
   },
   "file_extension": ".py",
   "mimetype": "text/x-python",
   "name": "python",
   "nbconvert_exporter": "python",
   "pygments_lexer": "ipython3",
   "version": "3.12.4"
  }
 },
 "nbformat": 4,
 "nbformat_minor": 5
}
